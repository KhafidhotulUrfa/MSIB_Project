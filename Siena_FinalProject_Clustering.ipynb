{
  "nbformat": 4,
  "nbformat_minor": 0,
  "metadata": {
    "colab": {
      "provenance": [],
      "include_colab_link": true
    },
    "kernelspec": {
      "name": "python3",
      "display_name": "Python 3"
    },
    "language_info": {
      "name": "python"
    }
  },
  "cells": [
    {
      "cell_type": "markdown",
      "metadata": {
        "id": "view-in-github",
        "colab_type": "text"
      },
      "source": [
        "<a href=\"https://colab.research.google.com/github/KhafidhotulUrfa/MSIB_Project/blob/main/Siena_FinalProject_Clustering.ipynb\" target=\"_parent\"><img src=\"https://colab.research.google.com/assets/colab-badge.svg\" alt=\"Open In Colab\"/></a>"
      ]
    },
    {
      "cell_type": "markdown",
      "source": [
        "## Business Understanding\n",
        "\n",
        "Mengklasifikasikan saham kesehatan untuk meminimalisir kemungkinan lost dalam melakukan investasi.\n",
        "\n",
        "Permasalahan: Unsupervised Learning\n",
        "\n",
        "Kemungkinan Algoritma: K - Means Clustering\n",
        "\n",
        "Evaluasi: Elbow Method, Silhouette Score"
      ],
      "metadata": {
        "id": "vGCFoKavUTS6"
      }
    },
    {
      "cell_type": "code",
      "execution_count": null,
      "metadata": {
        "colab": {
          "base_uri": "https://localhost:8080/"
        },
        "id": "1kejCsMjdFTj",
        "outputId": "8ddeb122-d4bb-49fe-acea-4ba97aa72f3f"
      },
      "outputs": [
        {
          "output_type": "stream",
          "name": "stdout",
          "text": [
            "Mounted at /content/drive\n"
          ]
        }
      ],
      "source": [
        "# import google drive\n",
        "from google.colab import drive\n",
        "drive.mount('/content/drive')"
      ]
    },
    {
      "cell_type": "markdown",
      "source": [
        "## Data Understanding"
      ],
      "metadata": {
        "id": "NilUBOfTWU3L"
      }
    },
    {
      "cell_type": "code",
      "source": [
        "# Library\n",
        "\n",
        "import pandas as pd\n",
        "import numpy as np\n",
        "import seaborn as sns\n",
        "import matplotlib.pyplot as plt\n",
        "import warnings\n",
        "\n",
        "warnings.filterwarnings(\"ignore\")"
      ],
      "metadata": {
        "id": "1ISOuyNHeOiY"
      },
      "execution_count": null,
      "outputs": []
    },
    {
      "cell_type": "code",
      "source": [
        "# Load data\n",
        "\n",
        "url = '/content/drive/MyDrive/Colab Notebooks/MSIB/Dataset Tugas Akhir/Data Training/dataset_saham_kesehatan_utama_monthly.xlsx'\n",
        "\n",
        "load_data = pd.read_excel(url)\n",
        "\n",
        "df = pd.DataFrame(load_data)\n",
        "\n",
        "df.head()"
      ],
      "metadata": {
        "colab": {
          "base_uri": "https://localhost:8080/",
          "height": 206
        },
        "id": "lEVJ_hVYdG0m",
        "outputId": "5b495630-10fa-44c8-dd60-34f975fde3f1"
      },
      "execution_count": null,
      "outputs": [
        {
          "output_type": "execute_result",
          "data": {
            "text/plain": [
              "  Kode Saham       Date    Open    High     Low   Close    Adj Close  \\\n",
              "0       BMHS   8/1/2021  1100.0  1130.0   950.0  1115.0  1110.248047   \n",
              "1       BMHS   9/1/2021  1080.0  1155.0  1030.0  1095.0  1090.333252   \n",
              "2       BMHS  10/1/2021  1085.0  1095.0   875.0   905.0   901.143005   \n",
              "3       BMHS  11/1/2021   905.0   935.0   830.0   855.0   851.356140   \n",
              "4       BMHS  12/1/2021   855.0   900.0   785.0   830.0   826.462646   \n",
              "\n",
              "       Volume    Return           MA  \n",
              "0   752667200  0.000000  1115.000000  \n",
              "1  1141932900 -0.017937  1105.000000  \n",
              "2   892012600 -0.173516  1038.333333  \n",
              "3  1239137600 -0.055249   951.666667  \n",
              "4   787451600 -0.029240   863.333333  "
            ],
            "text/html": [
              "\n",
              "  <div id=\"df-f832f3b9-56f1-486c-a7ca-6827f45da14c\">\n",
              "    <div class=\"colab-df-container\">\n",
              "      <div>\n",
              "<style scoped>\n",
              "    .dataframe tbody tr th:only-of-type {\n",
              "        vertical-align: middle;\n",
              "    }\n",
              "\n",
              "    .dataframe tbody tr th {\n",
              "        vertical-align: top;\n",
              "    }\n",
              "\n",
              "    .dataframe thead th {\n",
              "        text-align: right;\n",
              "    }\n",
              "</style>\n",
              "<table border=\"1\" class=\"dataframe\">\n",
              "  <thead>\n",
              "    <tr style=\"text-align: right;\">\n",
              "      <th></th>\n",
              "      <th>Kode Saham</th>\n",
              "      <th>Date</th>\n",
              "      <th>Open</th>\n",
              "      <th>High</th>\n",
              "      <th>Low</th>\n",
              "      <th>Close</th>\n",
              "      <th>Adj Close</th>\n",
              "      <th>Volume</th>\n",
              "      <th>Return</th>\n",
              "      <th>MA</th>\n",
              "    </tr>\n",
              "  </thead>\n",
              "  <tbody>\n",
              "    <tr>\n",
              "      <th>0</th>\n",
              "      <td>BMHS</td>\n",
              "      <td>8/1/2021</td>\n",
              "      <td>1100.0</td>\n",
              "      <td>1130.0</td>\n",
              "      <td>950.0</td>\n",
              "      <td>1115.0</td>\n",
              "      <td>1110.248047</td>\n",
              "      <td>752667200</td>\n",
              "      <td>0.000000</td>\n",
              "      <td>1115.000000</td>\n",
              "    </tr>\n",
              "    <tr>\n",
              "      <th>1</th>\n",
              "      <td>BMHS</td>\n",
              "      <td>9/1/2021</td>\n",
              "      <td>1080.0</td>\n",
              "      <td>1155.0</td>\n",
              "      <td>1030.0</td>\n",
              "      <td>1095.0</td>\n",
              "      <td>1090.333252</td>\n",
              "      <td>1141932900</td>\n",
              "      <td>-0.017937</td>\n",
              "      <td>1105.000000</td>\n",
              "    </tr>\n",
              "    <tr>\n",
              "      <th>2</th>\n",
              "      <td>BMHS</td>\n",
              "      <td>10/1/2021</td>\n",
              "      <td>1085.0</td>\n",
              "      <td>1095.0</td>\n",
              "      <td>875.0</td>\n",
              "      <td>905.0</td>\n",
              "      <td>901.143005</td>\n",
              "      <td>892012600</td>\n",
              "      <td>-0.173516</td>\n",
              "      <td>1038.333333</td>\n",
              "    </tr>\n",
              "    <tr>\n",
              "      <th>3</th>\n",
              "      <td>BMHS</td>\n",
              "      <td>11/1/2021</td>\n",
              "      <td>905.0</td>\n",
              "      <td>935.0</td>\n",
              "      <td>830.0</td>\n",
              "      <td>855.0</td>\n",
              "      <td>851.356140</td>\n",
              "      <td>1239137600</td>\n",
              "      <td>-0.055249</td>\n",
              "      <td>951.666667</td>\n",
              "    </tr>\n",
              "    <tr>\n",
              "      <th>4</th>\n",
              "      <td>BMHS</td>\n",
              "      <td>12/1/2021</td>\n",
              "      <td>855.0</td>\n",
              "      <td>900.0</td>\n",
              "      <td>785.0</td>\n",
              "      <td>830.0</td>\n",
              "      <td>826.462646</td>\n",
              "      <td>787451600</td>\n",
              "      <td>-0.029240</td>\n",
              "      <td>863.333333</td>\n",
              "    </tr>\n",
              "  </tbody>\n",
              "</table>\n",
              "</div>\n",
              "      <button class=\"colab-df-convert\" onclick=\"convertToInteractive('df-f832f3b9-56f1-486c-a7ca-6827f45da14c')\"\n",
              "              title=\"Convert this dataframe to an interactive table.\"\n",
              "              style=\"display:none;\">\n",
              "        \n",
              "  <svg xmlns=\"http://www.w3.org/2000/svg\" height=\"24px\"viewBox=\"0 0 24 24\"\n",
              "       width=\"24px\">\n",
              "    <path d=\"M0 0h24v24H0V0z\" fill=\"none\"/>\n",
              "    <path d=\"M18.56 5.44l.94 2.06.94-2.06 2.06-.94-2.06-.94-.94-2.06-.94 2.06-2.06.94zm-11 1L8.5 8.5l.94-2.06 2.06-.94-2.06-.94L8.5 2.5l-.94 2.06-2.06.94zm10 10l.94 2.06.94-2.06 2.06-.94-2.06-.94-.94-2.06-.94 2.06-2.06.94z\"/><path d=\"M17.41 7.96l-1.37-1.37c-.4-.4-.92-.59-1.43-.59-.52 0-1.04.2-1.43.59L10.3 9.45l-7.72 7.72c-.78.78-.78 2.05 0 2.83L4 21.41c.39.39.9.59 1.41.59.51 0 1.02-.2 1.41-.59l7.78-7.78 2.81-2.81c.8-.78.8-2.07 0-2.86zM5.41 20L4 18.59l7.72-7.72 1.47 1.35L5.41 20z\"/>\n",
              "  </svg>\n",
              "      </button>\n",
              "      \n",
              "  <style>\n",
              "    .colab-df-container {\n",
              "      display:flex;\n",
              "      flex-wrap:wrap;\n",
              "      gap: 12px;\n",
              "    }\n",
              "\n",
              "    .colab-df-convert {\n",
              "      background-color: #E8F0FE;\n",
              "      border: none;\n",
              "      border-radius: 50%;\n",
              "      cursor: pointer;\n",
              "      display: none;\n",
              "      fill: #1967D2;\n",
              "      height: 32px;\n",
              "      padding: 0 0 0 0;\n",
              "      width: 32px;\n",
              "    }\n",
              "\n",
              "    .colab-df-convert:hover {\n",
              "      background-color: #E2EBFA;\n",
              "      box-shadow: 0px 1px 2px rgba(60, 64, 67, 0.3), 0px 1px 3px 1px rgba(60, 64, 67, 0.15);\n",
              "      fill: #174EA6;\n",
              "    }\n",
              "\n",
              "    [theme=dark] .colab-df-convert {\n",
              "      background-color: #3B4455;\n",
              "      fill: #D2E3FC;\n",
              "    }\n",
              "\n",
              "    [theme=dark] .colab-df-convert:hover {\n",
              "      background-color: #434B5C;\n",
              "      box-shadow: 0px 1px 3px 1px rgba(0, 0, 0, 0.15);\n",
              "      filter: drop-shadow(0px 1px 2px rgba(0, 0, 0, 0.3));\n",
              "      fill: #FFFFFF;\n",
              "    }\n",
              "  </style>\n",
              "\n",
              "      <script>\n",
              "        const buttonEl =\n",
              "          document.querySelector('#df-f832f3b9-56f1-486c-a7ca-6827f45da14c button.colab-df-convert');\n",
              "        buttonEl.style.display =\n",
              "          google.colab.kernel.accessAllowed ? 'block' : 'none';\n",
              "\n",
              "        async function convertToInteractive(key) {\n",
              "          const element = document.querySelector('#df-f832f3b9-56f1-486c-a7ca-6827f45da14c');\n",
              "          const dataTable =\n",
              "            await google.colab.kernel.invokeFunction('convertToInteractive',\n",
              "                                                     [key], {});\n",
              "          if (!dataTable) return;\n",
              "\n",
              "          const docLinkHtml = 'Like what you see? Visit the ' +\n",
              "            '<a target=\"_blank\" href=https://colab.research.google.com/notebooks/data_table.ipynb>data table notebook</a>'\n",
              "            + ' to learn more about interactive tables.';\n",
              "          element.innerHTML = '';\n",
              "          dataTable['output_type'] = 'display_data';\n",
              "          await google.colab.output.renderOutput(dataTable, element);\n",
              "          const docLink = document.createElement('div');\n",
              "          docLink.innerHTML = docLinkHtml;\n",
              "          element.appendChild(docLink);\n",
              "        }\n",
              "      </script>\n",
              "    </div>\n",
              "  </div>\n",
              "  "
            ]
          },
          "metadata": {},
          "execution_count": 3
        }
      ]
    },
    {
      "cell_type": "markdown",
      "source": [
        "## Data Preparation\n",
        "1. Tidak ada melakukan handling missing value. disebabkan tidak ada data yang NULL balue dan juga NaN value.\n",
        "2. Handling missing value sudah dilakukan saat proses penggabungan data."
      ],
      "metadata": {
        "id": "PZHy4DvfWkAM"
      }
    },
    {
      "cell_type": "code",
      "source": [
        "df.isnull().sum()"
      ],
      "metadata": {
        "colab": {
          "base_uri": "https://localhost:8080/"
        },
        "id": "UCGK-nMKeen_",
        "outputId": "e98a074b-2b0a-4e28-98b9-17022b852455"
      },
      "execution_count": null,
      "outputs": [
        {
          "output_type": "execute_result",
          "data": {
            "text/plain": [
              "Kode Saham    0\n",
              "Date          0\n",
              "Open          0\n",
              "High          0\n",
              "Low           0\n",
              "Close         0\n",
              "Adj Close     0\n",
              "Volume        0\n",
              "Return        0\n",
              "MA            0\n",
              "dtype: int64"
            ]
          },
          "metadata": {},
          "execution_count": 4
        }
      ]
    },
    {
      "cell_type": "markdown",
      "source": [
        "## Pemodelan Data"
      ],
      "metadata": {
        "id": "-9keHyj4vc28"
      }
    },
    {
      "cell_type": "code",
      "source": [
        "from sklearn.cluster import KMeans\n",
        "#from sklearn.datasets.samples_generator import make_blobs\n",
        "from sklearn.preprocessing import MinMaxScaler"
      ],
      "metadata": {
        "id": "eIjjSVlxZUu-"
      },
      "execution_count": null,
      "outputs": []
    },
    {
      "cell_type": "markdown",
      "source": [
        "## Menggunakan Field Close dan Return"
      ],
      "metadata": {
        "id": "QwrxyfhQIxKH"
      }
    },
    {
      "cell_type": "code",
      "source": [
        "# Menentukan input variabel\n",
        "x_return = df[['Close','Return']]\n",
        "\n",
        "# Pada pemodelan Unsupervised Learning tidak ada variabel target"
      ],
      "metadata": {
        "id": "vug2V8lYZZb2"
      },
      "execution_count": null,
      "outputs": []
    },
    {
      "cell_type": "markdown",
      "source": [
        "## Elbow Method"
      ],
      "metadata": {
        "id": "gIp8fYN3wGX8"
      }
    },
    {
      "cell_type": "code",
      "source": [
        "cluster_range = range(1,10)\n",
        "cluster_wss = []\n",
        "\n",
        "for num_cluster in cluster_range:\n",
        "  clusters = KMeans(num_cluster)\n",
        "  clusters.fit(x_return)\n",
        "  cluster_wss.append(clusters.inertia_)\n",
        "\n",
        "plt.xlabel('Jumlah Cluster')\n",
        "plt.ylabel('WSS')\n",
        "plt.plot(cluster_range, cluster_wss, marker='o')\n",
        "plt.show()"
      ],
      "metadata": {
        "colab": {
          "base_uri": "https://localhost:8080/",
          "height": 465
        },
        "id": "f80KHqtkbRse",
        "outputId": "afcfb36b-be11-4271-ce59-a67e7446b7c9"
      },
      "execution_count": null,
      "outputs": [
        {
          "output_type": "display_data",
          "data": {
            "text/plain": [
              "<Figure size 640x480 with 1 Axes>"
            ],
            "image/png": "[encoded data removed]"
          },
          "metadata": {}
        }
      ]
    },
    {
      "cell_type": "code",
      "source": [
        "from sklearn.metrics import silhouette_samples, silhouette_score"
      ],
      "metadata": {
        "id": "_qAzuvkSweu4"
      },
      "execution_count": null,
      "outputs": []
    },
    {
      "cell_type": "code",
      "source": [
        "#Menetukan kongfigurasi KMeans pada model cluster 3\n",
        "cls=KMeans(n_clusters=3,random_state=0)\n",
        "#Membentuk Model\n",
        "model_cls=cls.fit(x_return)\n",
        "\n",
        "score = silhouette_score(x_return, cls.labels_).round(3)\n",
        "\n",
        "print (f'Score Silhouette : {score}')"
      ],
      "metadata": {
        "colab": {
          "base_uri": "https://localhost:8080/"
        },
        "id": "er6WcOrgwNXc",
        "outputId": "1a7e130e-4515-4fd1-97aa-02e6881f11ab"
      },
      "execution_count": null,
      "outputs": [
        {
          "output_type": "stream",
          "name": "stdout",
          "text": [
            "Score Silhouette : 0.635\n"
          ]
        }
      ]
    },
    {
      "cell_type": "code",
      "source": [
        "#Menetukan kongfigurasi KMeans pada model cluster 4\n",
        "cls=KMeans(n_clusters=4,random_state=0)\n",
        "#Membentuk Model\n",
        "model_cls=cls.fit(x_return)\n",
        "\n",
        "score = silhouette_score(x_return,cls.labels_).round(4)\n",
        "\n",
        "print (f'Score Silhouette : {score}')"
      ],
      "metadata": {
        "colab": {
          "base_uri": "https://localhost:8080/"
        },
        "id": "2t0-MkFfw1h9",
        "outputId": "ad03f987-9c21-434e-8712-f45d36df1e01"
      },
      "execution_count": null,
      "outputs": [
        {
          "output_type": "stream",
          "name": "stdout",
          "text": [
            "Score Silhouette : 0.6045\n"
          ]
        }
      ]
    },
    {
      "cell_type": "markdown",
      "source": [
        "## Menggunakan Field Moving Average"
      ],
      "metadata": {
        "id": "yR4RjKQfI6aH"
      }
    },
    {
      "cell_type": "code",
      "source": [
        "# Menentukan input variabel\n",
        "x_ma = df[['Open',\t'Close',  'Return', 'MA']]\n",
        "\n",
        "# Pada pemodelan Unsupervised Learning tidak ada variabel target"
      ],
      "metadata": {
        "id": "E2b07BIe4xve"
      },
      "execution_count": null,
      "outputs": []
    },
    {
      "cell_type": "code",
      "source": [
        "cluster_ma_range = range(1,10)\n",
        "cluster_ma_wss = []\n",
        "\n",
        "for num_cluster in cluster_ma_range:\n",
        "  clusters_ma = KMeans(num_cluster)\n",
        "  clusters_ma.fit(x_ma)\n",
        "  cluster_ma_wss.append(clusters_ma.inertia_)\n",
        "\n",
        "plt.xlabel('Jumlah Cluster')\n",
        "plt.ylabel('WSS')\n",
        "plt.plot(cluster_ma_range, cluster_ma_wss, marker='o')\n",
        "plt.show()"
      ],
      "metadata": {
        "colab": {
          "base_uri": "https://localhost:8080/",
          "height": 465
        },
        "id": "SFiD5sEHJAlx",
        "outputId": "f8a2b4e0-7fae-4c73-94fa-9a90be50f430"
      },
      "execution_count": null,
      "outputs": [
        {
          "output_type": "display_data",
          "data": {
            "text/plain": [
              "<Figure size 640x480 with 1 Axes>"
            ],
            "image/png": "[encoded data removed]"
          },
          "metadata": {}
        }
      ]
    },
    {
      "cell_type": "code",
      "source": [
        "#Menetukan kongfigurasi KMeans pada model cluster 3\n",
        "cls_ma=KMeans(n_clusters=3,random_state=0)\n",
        "#Membentuk Model\n",
        "model_cls_ma=cls_ma.fit(x_ma)\n",
        "\n",
        "score_ma = silhouette_score(x_ma, cls_ma.labels_).round(3)\n",
        "\n",
        "print (f'Score Silhouette : {score_ma}')"
      ],
      "metadata": {
        "colab": {
          "base_uri": "https://localhost:8080/"
        },
        "id": "5kZ176cwJYu9",
        "outputId": "c8232cc1-8b6b-45e6-e5f7-39bdf31462a8"
      },
      "execution_count": null,
      "outputs": [
        {
          "output_type": "stream",
          "name": "stdout",
          "text": [
            "Score Silhouette : 0.627\n"
          ]
        }
      ]
    },
    {
      "cell_type": "code",
      "source": [
        "#Menetukan kongfigurasi KMeans pada model cluster 4\n",
        "cls_ma=KMeans(n_clusters=4,random_state=0)\n",
        "#Membentuk Model\n",
        "model_cls_ma=cls_ma.fit(x_ma)\n",
        "\n",
        "score_ma = silhouette_score(x_ma, cls_ma.labels_).round(4)\n",
        "\n",
        "print (f'Score Silhouette : {score_ma}')"
      ],
      "metadata": {
        "colab": {
          "base_uri": "https://localhost:8080/"
        },
        "id": "ypHmE3iGJr64",
        "outputId": "e257e1e9-e5bf-4a0d-daf4-41c45366ea10"
      },
      "execution_count": null,
      "outputs": [
        {
          "output_type": "stream",
          "name": "stdout",
          "text": [
            "Score Silhouette : 0.5905\n"
          ]
        }
      ]
    },
    {
      "cell_type": "markdown",
      "source": [
        "## Menggunakan Field Hihgh, Close, Return"
      ],
      "metadata": {
        "id": "3uQ0SG8RJ2kj"
      }
    },
    {
      "cell_type": "code",
      "source": [
        "# Menentukan input variabel\n",
        "x_all = df[['High',\t'Close', 'Return']]\n",
        "\n",
        "# Pada pemodelan Unsupervised Learning tidak ada variabel target"
      ],
      "metadata": {
        "id": "r7PyHDAvJu_G"
      },
      "execution_count": null,
      "outputs": []
    },
    {
      "cell_type": "code",
      "source": [
        "cluster_all_range = range(1,10)\n",
        "cluster_all_wss = []\n",
        "\n",
        "for num_cluster in cluster_all_range:\n",
        "  clusters_all = KMeans(num_cluster)\n",
        "  clusters_all.fit(x_all)\n",
        "  cluster_all_wss.append(clusters_all.inertia_)\n",
        "\n",
        "plt.xlabel('Jumlah Cluster')\n",
        "plt.ylabel('WSS')\n",
        "plt.plot(cluster_all_range, cluster_all_wss, marker='o')\n",
        "plt.show()"
      ],
      "metadata": {
        "colab": {
          "base_uri": "https://localhost:8080/",
          "height": 465
        },
        "id": "rzIHtK4DKPBI",
        "outputId": "726c5abb-32df-4825-eec0-16c2885904ef"
      },
      "execution_count": null,
      "outputs": [
        {
          "output_type": "display_data",
          "data": {
            "text/plain": [
              "<Figure size 640x480 with 1 Axes>"
            ],
            "image/png": "[encoded data removed]"
          },
          "metadata": {}
        }
      ]
    },
    {
      "cell_type": "code",
      "source": [
        "# #Menetukan kongfigurasi KMeans pada model cluster 2\n",
        "# cls_all =KMeans(n_clusters=2,random_state=0)\n",
        "# #Membentuk Model\n",
        "# model_cls2_all =cls_all.fit(x_all)\n",
        "\n",
        "# score_all = silhouette_score(x_all, cls_all.labels_).round(3)\n",
        "\n",
        "# print (f'Score Silhouette : {score_all}')"
      ],
      "metadata": {
        "id": "9wZwsD7UKeh9",
        "colab": {
          "base_uri": "https://localhost:8080/"
        },
        "outputId": "ab88ca74-e65d-4a38-82d5-551f53e5664a"
      },
      "execution_count": null,
      "outputs": [
        {
          "output_type": "stream",
          "name": "stdout",
          "text": [
            "Score Silhouette : 0.974\n"
          ]
        }
      ]
    },
    {
      "cell_type": "code",
      "source": [
        "#Menetukan kongfigurasi KMeans pada model cluster 3\n",
        "cls_all =KMeans(n_clusters=3,random_state=0)\n",
        "#Membentuk Model\n",
        "model_cls_all =cls_all.fit(x_all)\n",
        "\n",
        "score_all = silhouette_score(x_all, cls_all.labels_).round(4)\n",
        "\n",
        "print (f'Score Silhouette : {score_all}')"
      ],
      "metadata": {
        "colab": {
          "base_uri": "https://localhost:8080/"
        },
        "id": "y_UH4KGiKxvR",
        "outputId": "2ca62db3-b7aa-4b6f-83fb-d2b912234925"
      },
      "execution_count": null,
      "outputs": [
        {
          "output_type": "stream",
          "name": "stdout",
          "text": [
            "Score Silhouette : 0.7313\n"
          ]
        }
      ]
    },
    {
      "cell_type": "code",
      "source": [
        "# #Menetukan kongfigurasi KMeans pada model cluster 5\n",
        "# cls_all =KMeans(n_clusters=5,random_state=0)\n",
        "# #Membentuk Model\n",
        "# model_cls_all =cls_all.fit(x_all)\n",
        "\n",
        "# score_all = silhouette_score(x_all, cls_all.labels_).round(5)\n",
        "\n",
        "# print (f'Score Silhouette : {score_all}')"
      ],
      "metadata": {
        "id": "RF9jxJeCK_1A",
        "colab": {
          "base_uri": "https://localhost:8080/"
        },
        "outputId": "4f05e6d2-e844-4f60-a1cf-8967077a2489"
      },
      "execution_count": null,
      "outputs": [
        {
          "output_type": "stream",
          "name": "stdout",
          "text": [
            "Score Silhouette : 0.58464\n"
          ]
        }
      ]
    },
    {
      "cell_type": "markdown",
      "source": [
        "Berdasarkan nilai Silhouette Score didapatkan bahwa cluster dengan k=3 merupakan cluster yang terbaik dengan nilai silhouette 0.7313"
      ],
      "metadata": {
        "id": "RzyUkyxjY0yV"
      }
    },
    {
      "cell_type": "markdown",
      "source": [
        "## Deployment"
      ],
      "metadata": {
        "id": "5CU7TJNJYYcK"
      }
    },
    {
      "cell_type": "code",
      "source": [
        "df['Cluster']=model_cls_all.labels_"
      ],
      "metadata": {
        "id": "ndzwpKtiLG_n"
      },
      "execution_count": null,
      "outputs": []
    },
    {
      "cell_type": "code",
      "source": [
        "df"
      ],
      "metadata": {
        "id": "MtQlj33V8XnS",
        "colab": {
          "base_uri": "https://localhost:8080/",
          "height": 423
        },
        "outputId": "d4f1e38c-e326-4df6-b720-a7bd65c25938"
      },
      "execution_count": null,
      "outputs": [
        {
          "output_type": "execute_result",
          "data": {
            "text/plain": [
              "    Kode Saham       Date    Open    High     Low   Close    Adj Close  \\\n",
              "0         BMHS   8/1/2021  1100.0  1130.0   950.0  1115.0  1110.248047   \n",
              "1         BMHS   9/1/2021  1080.0  1155.0  1030.0  1095.0  1090.333252   \n",
              "2         BMHS  10/1/2021  1085.0  1095.0   875.0   905.0   901.143005   \n",
              "3         BMHS  11/1/2021   905.0   935.0   830.0   855.0   851.356140   \n",
              "4         BMHS  12/1/2021   855.0   900.0   785.0   830.0   826.462646   \n",
              "..         ...        ...     ...     ...     ...     ...          ...   \n",
              "867       TSPC   2/1/2023  1405.0  1425.0  1385.0  1390.0  1390.000000   \n",
              "868       TSPC   3/1/2023  1395.0  1440.0  1340.0  1405.0  1405.000000   \n",
              "869       TSPC   4/1/2023  1415.0  1415.0  1375.0  1400.0  1400.000000   \n",
              "870       TSPC   5/1/2023  1425.0  1510.0  1360.0  1455.0  1455.000000   \n",
              "871       TSPC   6/1/2023  1460.0  1465.0  1405.0  1425.0  1425.000000   \n",
              "\n",
              "         Volume    Return           MA  Cluster  \n",
              "0     752667200  0.000000  1115.000000        0  \n",
              "1    1141932900 -0.017937  1105.000000        0  \n",
              "2     892012600 -0.173516  1038.333333        0  \n",
              "3    1239137600 -0.055249   951.666667        0  \n",
              "4     787451600 -0.029240   863.333333        0  \n",
              "..          ...       ...          ...      ...  \n",
              "867     9086000 -0.010676  1401.666667        0  \n",
              "868    19795100  0.010791  1400.000000        0  \n",
              "869    35181300 -0.003559  1398.333333        0  \n",
              "870   179823800  0.039286  1420.000000        0  \n",
              "871    17136300 -0.020619  1426.666667        0  \n",
              "\n",
              "[872 rows x 11 columns]"
            ],
            "text/html": [
              "\n",
              "  <div id=\"df-4e7bad94-d7b5-4b2c-9e78-e15476f10de1\">\n",
              "    <div class=\"colab-df-container\">\n",
              "      <div>\n",
              "<style scoped>\n",
              "    .dataframe tbody tr th:only-of-type {\n",
              "        vertical-align: middle;\n",
              "    }\n",
              "\n",
              "    .dataframe tbody tr th {\n",
              "        vertical-align: top;\n",
              "    }\n",
              "\n",
              "    .dataframe thead th {\n",
              "        text-align: right;\n",
              "    }\n",
              "</style>\n",
              "<table border=\"1\" class=\"dataframe\">\n",
              "  <thead>\n",
              "    <tr style=\"text-align: right;\">\n",
              "      <th></th>\n",
              "      <th>Kode Saham</th>\n",
              "      <th>Date</th>\n",
              "      <th>Open</th>\n",
              "      <th>High</th>\n",
              "      <th>Low</th>\n",
              "      <th>Close</th>\n",
              "      <th>Adj Close</th>\n",
              "      <th>Volume</th>\n",
              "      <th>Return</th>\n",
              "      <th>MA</th>\n",
              "      <th>Cluster</th>\n",
              "    </tr>\n",
              "  </thead>\n",
              "  <tbody>\n",
              "    <tr>\n",
              "      <th>0</th>\n",
              "      <td>BMHS</td>\n",
              "      <td>8/1/2021</td>\n",
              "      <td>1100.0</td>\n",
              "      <td>1130.0</td>\n",
              "      <td>950.0</td>\n",
              "      <td>1115.0</td>\n",
              "      <td>1110.248047</td>\n",
              "      <td>752667200</td>\n",
              "      <td>0.000000</td>\n",
              "      <td>1115.000000</td>\n",
              "      <td>0</td>\n",
              "    </tr>\n",
              "    <tr>\n",
              "      <th>1</th>\n",
              "      <td>BMHS</td>\n",
              "      <td>9/1/2021</td>\n",
              "      <td>1080.0</td>\n",
              "      <td>1155.0</td>\n",
              "      <td>1030.0</td>\n",
              "      <td>1095.0</td>\n",
              "      <td>1090.333252</td>\n",
              "      <td>1141932900</td>\n",
              "      <td>-0.017937</td>\n",
              "      <td>1105.000000</td>\n",
              "      <td>0</td>\n",
              "    </tr>\n",
              "    <tr>\n",
              "      <th>2</th>\n",
              "      <td>BMHS</td>\n",
              "      <td>10/1/2021</td>\n",
              "      <td>1085.0</td>\n",
              "      <td>1095.0</td>\n",
              "      <td>875.0</td>\n",
              "      <td>905.0</td>\n",
              "      <td>901.143005</td>\n",
              "      <td>892012600</td>\n",
              "      <td>-0.173516</td>\n",
              "      <td>1038.333333</td>\n",
              "      <td>0</td>\n",
              "    </tr>\n",
              "    <tr>\n",
              "      <th>3</th>\n",
              "      <td>BMHS</td>\n",
              "      <td>11/1/2021</td>\n",
              "      <td>905.0</td>\n",
              "      <td>935.0</td>\n",
              "      <td>830.0</td>\n",
              "      <td>855.0</td>\n",
              "      <td>851.356140</td>\n",
              "      <td>1239137600</td>\n",
              "      <td>-0.055249</td>\n",
              "      <td>951.666667</td>\n",
              "      <td>0</td>\n",
              "    </tr>\n",
              "    <tr>\n",
              "      <th>4</th>\n",
              "      <td>BMHS</td>\n",
              "      <td>12/1/2021</td>\n",
              "      <td>855.0</td>\n",
              "      <td>900.0</td>\n",
              "      <td>785.0</td>\n",
              "      <td>830.0</td>\n",
              "      <td>826.462646</td>\n",
              "      <td>787451600</td>\n",
              "      <td>-0.029240</td>\n",
              "      <td>863.333333</td>\n",
              "      <td>0</td>\n",
              "    </tr>\n",
              "    <tr>\n",
              "      <th>...</th>\n",
              "      <td>...</td>\n",
              "      <td>...</td>\n",
              "      <td>...</td>\n",
              "      <td>...</td>\n",
              "      <td>...</td>\n",
              "      <td>...</td>\n",
              "      <td>...</td>\n",
              "      <td>...</td>\n",
              "      <td>...</td>\n",
              "      <td>...</td>\n",
              "      <td>...</td>\n",
              "    </tr>\n",
              "    <tr>\n",
              "      <th>867</th>\n",
              "      <td>TSPC</td>\n",
              "      <td>2/1/2023</td>\n",
              "      <td>1405.0</td>\n",
              "      <td>1425.0</td>\n",
              "      <td>1385.0</td>\n",
              "      <td>1390.0</td>\n",
              "      <td>1390.000000</td>\n",
              "      <td>9086000</td>\n",
              "      <td>-0.010676</td>\n",
              "      <td>1401.666667</td>\n",
              "      <td>0</td>\n",
              "    </tr>\n",
              "    <tr>\n",
              "      <th>868</th>\n",
              "      <td>TSPC</td>\n",
              "      <td>3/1/2023</td>\n",
              "      <td>1395.0</td>\n",
              "      <td>1440.0</td>\n",
              "      <td>1340.0</td>\n",
              "      <td>1405.0</td>\n",
              "      <td>1405.000000</td>\n",
              "      <td>19795100</td>\n",
              "      <td>0.010791</td>\n",
              "      <td>1400.000000</td>\n",
              "      <td>0</td>\n",
              "    </tr>\n",
              "    <tr>\n",
              "      <th>869</th>\n",
              "      <td>TSPC</td>\n",
              "      <td>4/1/2023</td>\n",
              "      <td>1415.0</td>\n",
              "      <td>1415.0</td>\n",
              "      <td>1375.0</td>\n",
              "      <td>1400.0</td>\n",
              "      <td>1400.000000</td>\n",
              "      <td>35181300</td>\n",
              "      <td>-0.003559</td>\n",
              "      <td>1398.333333</td>\n",
              "      <td>0</td>\n",
              "    </tr>\n",
              "    <tr>\n",
              "      <th>870</th>\n",
              "      <td>TSPC</td>\n",
              "      <td>5/1/2023</td>\n",
              "      <td>1425.0</td>\n",
              "      <td>1510.0</td>\n",
              "      <td>1360.0</td>\n",
              "      <td>1455.0</td>\n",
              "      <td>1455.000000</td>\n",
              "      <td>179823800</td>\n",
              "      <td>0.039286</td>\n",
              "      <td>1420.000000</td>\n",
              "      <td>0</td>\n",
              "    </tr>\n",
              "    <tr>\n",
              "      <th>871</th>\n",
              "      <td>TSPC</td>\n",
              "      <td>6/1/2023</td>\n",
              "      <td>1460.0</td>\n",
              "      <td>1465.0</td>\n",
              "      <td>1405.0</td>\n",
              "      <td>1425.0</td>\n",
              "      <td>1425.000000</td>\n",
              "      <td>17136300</td>\n",
              "      <td>-0.020619</td>\n",
              "      <td>1426.666667</td>\n",
              "      <td>0</td>\n",
              "    </tr>\n",
              "  </tbody>\n",
              "</table>\n",
              "<p>872 rows × 11 columns</p>\n",
              "</div>\n",
              "      <button class=\"colab-df-convert\" onclick=\"convertToInteractive('df-4e7bad94-d7b5-4b2c-9e78-e15476f10de1')\"\n",
              "              title=\"Convert this dataframe to an interactive table.\"\n",
              "              style=\"display:none;\">\n",
              "        \n",
              "  <svg xmlns=\"http://www.w3.org/2000/svg\" height=\"24px\"viewBox=\"0 0 24 24\"\n",
              "       width=\"24px\">\n",
              "    <path d=\"M0 0h24v24H0V0z\" fill=\"none\"/>\n",
              "    <path d=\"M18.56 5.44l.94 2.06.94-2.06 2.06-.94-2.06-.94-.94-2.06-.94 2.06-2.06.94zm-11 1L8.5 8.5l.94-2.06 2.06-.94-2.06-.94L8.5 2.5l-.94 2.06-2.06.94zm10 10l.94 2.06.94-2.06 2.06-.94-2.06-.94-.94-2.06-.94 2.06-2.06.94z\"/><path d=\"M17.41 7.96l-1.37-1.37c-.4-.4-.92-.59-1.43-.59-.52 0-1.04.2-1.43.59L10.3 9.45l-7.72 7.72c-.78.78-.78 2.05 0 2.83L4 21.41c.39.39.9.59 1.41.59.51 0 1.02-.2 1.41-.59l7.78-7.78 2.81-2.81c.8-.78.8-2.07 0-2.86zM5.41 20L4 18.59l7.72-7.72 1.47 1.35L5.41 20z\"/>\n",
              "  </svg>\n",
              "      </button>\n",
              "      \n",
              "  <style>\n",
              "    .colab-df-container {\n",
              "      display:flex;\n",
              "      flex-wrap:wrap;\n",
              "      gap: 12px;\n",
              "    }\n",
              "\n",
              "    .colab-df-convert {\n",
              "      background-color: #E8F0FE;\n",
              "      border: none;\n",
              "      border-radius: 50%;\n",
              "      cursor: pointer;\n",
              "      display: none;\n",
              "      fill: #1967D2;\n",
              "      height: 32px;\n",
              "      padding: 0 0 0 0;\n",
              "      width: 32px;\n",
              "    }\n",
              "\n",
              "    .colab-df-convert:hover {\n",
              "      background-color: #E2EBFA;\n",
              "      box-shadow: 0px 1px 2px rgba(60, 64, 67, 0.3), 0px 1px 3px 1px rgba(60, 64, 67, 0.15);\n",
              "      fill: #174EA6;\n",
              "    }\n",
              "\n",
              "    [theme=dark] .colab-df-convert {\n",
              "      background-color: #3B4455;\n",
              "      fill: #D2E3FC;\n",
              "    }\n",
              "\n",
              "    [theme=dark] .colab-df-convert:hover {\n",
              "      background-color: #434B5C;\n",
              "      box-shadow: 0px 1px 3px 1px rgba(0, 0, 0, 0.15);\n",
              "      filter: drop-shadow(0px 1px 2px rgba(0, 0, 0, 0.3));\n",
              "      fill: #FFFFFF;\n",
              "    }\n",
              "  </style>\n",
              "\n",
              "      <script>\n",
              "        const buttonEl =\n",
              "          document.querySelector('#df-4e7bad94-d7b5-4b2c-9e78-e15476f10de1 button.colab-df-convert');\n",
              "        buttonEl.style.display =\n",
              "          google.colab.kernel.accessAllowed ? 'block' : 'none';\n",
              "\n",
              "        async function convertToInteractive(key) {\n",
              "          const element = document.querySelector('#df-4e7bad94-d7b5-4b2c-9e78-e15476f10de1');\n",
              "          const dataTable =\n",
              "            await google.colab.kernel.invokeFunction('convertToInteractive',\n",
              "                                                     [key], {});\n",
              "          if (!dataTable) return;\n",
              "\n",
              "          const docLinkHtml = 'Like what you see? Visit the ' +\n",
              "            '<a target=\"_blank\" href=https://colab.research.google.com/notebooks/data_table.ipynb>data table notebook</a>'\n",
              "            + ' to learn more about interactive tables.';\n",
              "          element.innerHTML = '';\n",
              "          dataTable['output_type'] = 'display_data';\n",
              "          await google.colab.output.renderOutput(dataTable, element);\n",
              "          const docLink = document.createElement('div');\n",
              "          docLink.innerHTML = docLinkHtml;\n",
              "          element.appendChild(docLink);\n",
              "        }\n",
              "      </script>\n",
              "    </div>\n",
              "  </div>\n",
              "  "
            ]
          },
          "metadata": {},
          "execution_count": 27
        }
      ]
    },
    {
      "cell_type": "code",
      "source": [
        "df['Cluster'].value_counts()"
      ],
      "metadata": {
        "colab": {
          "base_uri": "https://localhost:8080/"
        },
        "id": "SF83Awn__0Dh",
        "outputId": "66010959-5788-4b4d-acc5-1914a077627a"
      },
      "execution_count": null,
      "outputs": [
        {
          "output_type": "execute_result",
          "data": {
            "text/plain": [
              "0    786\n",
              "2     85\n",
              "1      1\n",
              "Name: Cluster, dtype: int64"
            ]
          },
          "metadata": {},
          "execution_count": 28
        }
      ]
    },
    {
      "cell_type": "code",
      "source": [
        "# Export to Excel\n",
        "from google.colab import files\n",
        "\n",
        "xlsx = df.to_excel('dataset_saham_kesehatan_utama_clus.xlsx')\n",
        "files.download('dataset_saham_kesehatan_utama_clus.xlsx')"
      ],
      "metadata": {
        "colab": {
          "base_uri": "https://localhost:8080/",
          "height": 17
        },
        "id": "yt1VukxoHCzf",
        "outputId": "a141a81a-02aa-4f00-f45a-af3be49cb59f"
      },
      "execution_count": null,
      "outputs": [
        {
          "output_type": "display_data",
          "data": {
            "text/plain": [
              "<IPython.core.display.Javascript object>"
            ],
            "application/javascript": [
              "\n",
              "    async function download(id, filename, size) {\n",
              "      if (!google.colab.kernel.accessAllowed) {\n",
              "        return;\n",
              "      }\n",
              "      const div = document.createElement('div');\n",
              "      const label = document.createElement('label');\n",
              "      label.textContent = `Downloading \"${filename}\": `;\n",
              "      div.appendChild(label);\n",
              "      const progress = document.createElement('progress');\n",
              "      progress.max = size;\n",
              "      div.appendChild(progress);\n",
              "      document.body.appendChild(div);\n",
              "\n",
              "      const buffers = [];\n",
              "      let downloaded = 0;\n",
              "\n",
              "      const channel = await google.colab.kernel.comms.open(id);\n",
              "      // Send a message to notify the kernel that we're ready.\n",
              "      channel.send({})\n",
              "\n",
              "      for await (const message of channel.messages) {\n",
              "        // Send a message to notify the kernel that we're ready.\n",
              "        channel.send({})\n",
              "        if (message.buffers) {\n",
              "          for (const buffer of message.buffers) {\n",
              "            buffers.push(buffer);\n",
              "            downloaded += buffer.byteLength;\n",
              "            progress.value = downloaded;\n",
              "          }\n",
              "        }\n",
              "      }\n",
              "      const blob = new Blob(buffers, {type: 'application/binary'});\n",
              "      const a = document.createElement('a');\n",
              "      a.href = window.URL.createObjectURL(blob);\n",
              "      a.download = filename;\n",
              "      div.appendChild(a);\n",
              "      a.click();\n",
              "      div.remove();\n",
              "    }\n",
              "  "
            ]
          },
          "metadata": {}
        },
        {
          "output_type": "display_data",
          "data": {
            "text/plain": [
              "<IPython.core.display.Javascript object>"
            ],
            "application/javascript": [
              "download(\"download_dcd6ea2e-5c49-4706-8807-172a37fd83ea\", \"dataset_saham_kesehatan_utama_clus.xlsx\", 67679)"
            ]
          },
          "metadata": {}
        }
      ]
    }
  ]
}